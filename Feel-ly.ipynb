{
  "nbformat": 4,
  "nbformat_minor": 0,
  "metadata": {
    "colab": {
      "provenance": [],
      "gpuType": "T4",
      "machine_shape": "hm"
    },
    "kernelspec": {
      "name": "python3",
      "display_name": "Python 3"
    },
    "language_info": {
      "name": "python"
    },
    "accelerator": "GPU"
  },
  "cells": [
    {
      "cell_type": "code",
      "execution_count": null,
      "metadata": {
        "id": "DTBYASCvqSLq"
      },
      "outputs": [],
      "source": [
        "!pip install diffusers transformers accelerate"
      ]
    },
    {
      "cell_type": "code",
      "source": [
        "!pip install torch torchvision"
      ],
      "metadata": {
        "id": "VQAfYm4xreat"
      },
      "execution_count": null,
      "outputs": []
    },
    {
      "cell_type": "code",
      "source": [
        "!pip install pillow"
      ],
      "metadata": {
        "id": "7LbXC1GGrgX0"
      },
      "execution_count": null,
      "outputs": []
    },
    {
      "cell_type": "code",
      "source": [
        "!sudo apt-get install -y fonts-nanum"
      ],
      "metadata": {
        "id": "CUs06XbLvFDW"
      },
      "execution_count": null,
      "outputs": []
    },
    {
      "cell_type": "code",
      "source": [
        "!sudo fc-cache -fv"
      ],
      "metadata": {
        "id": "ehUV4bQTvOuF"
      },
      "execution_count": null,
      "outputs": []
    },
    {
      "cell_type": "code",
      "source": [
        "!rm ~/.cache/matplotlib -rf"
      ],
      "metadata": {
        "id": "ECKAt0P8vR35"
      },
      "execution_count": null,
      "outputs": []
    },
    {
      "cell_type": "code",
      "source": [
        "from diffusers import DiffusionPipeline\n",
        "import torch\n",
        "import matplotlib.pyplot as plt\n",
        "from PIL import Image\n",
        "import os\n",
        "import time\n",
        "import gc\n",
        "import psutil\n",
        "import requests\n",
        "import json"
      ],
      "metadata": {
        "id": "TcMRc0ZDriN6"
      },
      "execution_count": null,
      "outputs": []
    },
    {
      "cell_type": "code",
      "source": [
        "plt.rc('font', family='NanumBarunGothic')"
      ],
      "metadata": {
        "id": "N_2qdi3LwKYU"
      },
      "execution_count": null,
      "outputs": []
    },
    {
      "cell_type": "code",
      "source": [
        "# 시스템 정보 확인\n",
        "print(\"=== 시스템 정보 ===\")\n",
        "print(f\"GPU 사용 가능: {torch.cuda.is_available()}\")\n",
        "if torch.cuda.is_available():\n",
        "    print(f\"GPU 이름: {torch.cuda.get_device_name()}\")\n",
        "    print(f\"GPU 메모리: {torch.cuda.get_device_properties(0).total_memory / 1e9:.1f} GB\")\n",
        "print(f\"RAM: {psutil.virtual_memory().total / 1e9:.1f} GB\")\n",
        "\n",
        "# GPU 런타임 확인\n",
        "if not torch.cuda.is_available():\n",
        "    print(\"⚠️  GPU가 활성화되지 않았습니다!\")\n",
        "    print(\"Runtime → Change runtime type → Hardware accelerator → GPU 선택\")"
      ],
      "metadata": {
        "id": "IiY7wtI4F5xY"
      },
      "execution_count": null,
      "outputs": []
    },
    {
      "cell_type": "code",
      "source": [
        "# 메모리 정리\n",
        "gc.collect()\n",
        "torch.cuda.empty_cache()"
      ],
      "metadata": {
        "id": "JrKCSM702iCT"
      },
      "execution_count": null,
      "outputs": []
    },
    {
      "cell_type": "code",
      "source": [
        "# 코랩에 최적화된 파이프라인 설정\n",
        "device = \"cuda\" if torch.cuda.is_available() else \"cpu\"\n",
        "\n",
        "# 더 가벼운 설정으로 로드\n",
        "pipe = DiffusionPipeline.from_pretrained(\n",
        "    \"stabilityai/stable-diffusion-xl-base-1.0\",\n",
        "    torch_dtype=torch.float16,  # 메모리 절약 (중요!)\n",
        "    use_safetensors=True,\n",
        "    variant=\"fp16\",\n",
        "    low_cpu_mem_usage=True  # CPU 메모리 절약\n",
        ")\n",
        "\n",
        "# GPU로 이동\n",
        "pipe = pipe.to(device)\n",
        "\n",
        "# LoRA 로드\n",
        "pipe.load_lora_weights(\"alvdansen/phantasma-anime\")\n",
        "\n",
        "# 코랩에서 중요한 최적화들\n",
        "pipe.enable_model_cpu_offload()  # 모델을 필요할 때만 GPU로\n",
        "pipe.enable_vae_slicing()        # VAE 메모리 절약\n",
        "pipe.enable_vae_tiling()         # VAE 타일링\n",
        "pipe.enable_attention_slicing(1) # Attention 슬라이싱\n",
        "\n",
        "# xFormers 사용 (코랩에 보통 설치되어 있음)\n",
        "try:\n",
        "    pipe.enable_xformers_memory_efficient_attention()\n",
        "    print(\"✅ xFormers 최적화 적용됨\")\n",
        "except:\n",
        "    print(\"⚠️  xFormers 사용 불가\")"
      ],
      "metadata": {
        "id": "PtPlXwlkrlDs"
      },
      "execution_count": null,
      "outputs": []
    },
    {
      "cell_type": "code",
      "source": [
        "CLIENT_ID = ''\n",
        "CLIENT_SECRET = ''"
      ],
      "metadata": {
        "id": "L5QTrQ035h1Y"
      },
      "execution_count": null,
      "outputs": []
    },
    {
      "cell_type": "code",
      "source": [
        "# API 키가 설정되지 않은 경우 경고\n",
        "if CLIENT_ID == \"YOUR_CLIENT_ID\" or CLIENT_SECRET == \"YOUR_CLIENT_SECRET\":\n",
        "    print(\"⚠️  Papago API 키가 설정되지 않았습니다!\")\n",
        "    print(\"   네이버 개발자 센터에서 API 키를 발급받아 설정해주세요.\")\n",
        "    print(\"   현재는 번역 없이 원문이 그대로 prompt에 저장됩니다.\")\n",
        "    USE_PAPAGO = False\n",
        "else:\n",
        "    USE_PAPAGO = True"
      ],
      "metadata": {
        "id": "MMHkfqtN6BOh"
      },
      "execution_count": null,
      "outputs": []
    },
    {
      "cell_type": "code",
      "source": [
        "def papago_translate(text: str, source: str = \"ko\", target: str = \"en\", timeout: int = 5) -> str:\n",
        "    \"\"\"\n",
        "    Papago NMT로 번역합니다. (기본: 한국어 -> 영어)\n",
        "    필요: USE_PAPAGO, CLIENT_ID, CLIENT_SECRET\n",
        "    \"\"\"\n",
        "    if not globals().get(\"USE_PAPAGO\"):\n",
        "        print(\"⚠️ API 키 미설정으로 번역을 건너뜁니다.\")\n",
        "        return text\n",
        "\n",
        "    url = \"https://papago.apigw.ntruss.com/nmt/v1/translation\"\n",
        "    headers = {\n",
        "        \"X-NCP-APIGW-API-KEY-ID\": CLIENT_ID,\n",
        "        \"X-NCP-APIGW-API-KEY\": CLIENT_SECRET,\n",
        "        \"Content-Type\": \"application/json\"\n",
        "    }\n",
        "    payload = {\"source\": source, \"target\": target, \"text\": text}\n",
        "\n",
        "    try:\n",
        "        resp = requests.post(url, headers=headers, json=payload, timeout=timeout)\n",
        "        resp.raise_for_status()  # HTTP 에러(4xx/5xx) 자동 예외 발생\n",
        "        j = resp.json()\n",
        "        # 안전하게 키 접근\n",
        "        translated = j.get(\"message\", {}).get(\"result\", {}).get(\"translatedText\")\n",
        "        if translated:\n",
        "            return translated\n",
        "        else:\n",
        "            # 예상 구조가 아닌 경우 디버그용 출력\n",
        "            print(\"❌ 번역 결과 구조가 예상과 다릅니다:\", j)\n",
        "            return text\n",
        "    except requests.exceptions.RequestException as e:\n",
        "        print(f\"❌ 번역 요청 오류: {e}\")\n",
        "        # 디버그: 가능한 경우 응답 본문도 출력\n",
        "        try:\n",
        "            print(\"응답 텍스트:\", resp.text)\n",
        "        except Exception:\n",
        "            pass\n",
        "        return text\n",
        "    except ValueError as e:\n",
        "        # JSON 파싱 실패\n",
        "        print(f\"❌ JSON 파싱 오류: {e}\")\n",
        "        return text"
      ],
      "metadata": {
        "id": "I7KKIzYG6QQz"
      },
      "execution_count": null,
      "outputs": []
    },
    {
      "cell_type": "code",
      "source": [
        "# 동화 설정\n",
        "\n",
        "# 동화 제목\n",
        "story_title = input('동화 제목 : ')\n",
        "\n",
        "# 페이지 수 설정\n",
        "while True:\n",
        "    try:\n",
        "        pages = int(input(\"몇 페이지 ? (숫자만 입력하세요): \"))\n",
        "        if pages > 10:\n",
        "            print(\"❌ 10페이지 이하로 해주세요\")\n",
        "            continue\n",
        "        elif pages < 1:\n",
        "            print(\"❌ 1페이지 이상으로 해주세요\")\n",
        "            continue\n",
        "        print(f\"페이지 수는 {pages}장 입니다\")\n",
        "        break\n",
        "    except ValueError:\n",
        "        print(\"❌ 숫자가 아닙니다. 다시 입력해주세요!\")"
      ],
      "metadata": {
        "id": "XLSKzPayunV4"
      },
      "execution_count": null,
      "outputs": []
    },
    {
      "cell_type": "code",
      "source": [
        "# 동화 내용 저장할 리스트 (딕셔너리 형태)\n",
        "story_pages = []\n",
        "\n",
        "# 각 페이지별로 내용 입력받기\n",
        "for i in range(pages):\n",
        "    print(f\"\\n📖 {i+1}페이지 내용:\")\n",
        "    print(\"-\" * 30)\n",
        "\n",
        "    while True:\n",
        "        content = input(f\"{i+1}페이지 >> \").strip()\n",
        "\n",
        "        if not content:  # 빈 내용 체크\n",
        "            print(\"❌ 내용을 입력해주세요!\")\n",
        "            continue\n",
        "\n",
        "        print(\"🔄 번역 중...\" if USE_PAPAGO else \"📝 저장 중...\")\n",
        "        translated_text = papago_translate(content)\n",
        "\n",
        "        # 딕셔너리 형태로 저장\n",
        "        page_data = {\n",
        "            'page': i + 1,\n",
        "            'text': content,\n",
        "            'prompt': translated_text\n",
        "        }\n",
        "\n",
        "        story_pages.append(page_data)\n",
        "        print(f\"✅ {i+1}페이지 저장 완료!\")\n",
        "        print(f\"   원문: {content}\")\n",
        "        print(f\"   번역: {translated_text}\")\n",
        "        break"
      ],
      "metadata": {
        "id": "BkyoTcsf3RJI"
      },
      "execution_count": null,
      "outputs": []
    },
    {
      "cell_type": "code",
      "source": [
        "for page_data in story_pages:\n",
        "    print(f\"\\n📖 {page_data['page']}페이지:\")\n",
        "    print(f\"   한글: {page_data['text']}\")\n",
        "    print(f\"   영어: {page_data['prompt']}\")\n",
        "\n",
        "print(f\"\\n✨ 총 {len(story_pages)}페이지의 동화가 완성되었습니다!\")"
      ],
      "metadata": {
        "id": "oVBQXCBR4D2z"
      },
      "execution_count": null,
      "outputs": []
    },
    {
      "cell_type": "code",
      "source": [
        "story_pages"
      ],
      "metadata": {
        "id": "3NiXFjTYryHA"
      },
      "execution_count": null,
      "outputs": []
    },
    {
      "cell_type": "code",
      "source": [
        "# 각 페이지별로 이미지 생성\n",
        "for page_data in story_pages:\n",
        "    page_num = page_data['page']\n",
        "    prompt = page_data['prompt']\n",
        "    korean_text = page_data['text']\n",
        "\n",
        "    print(f\"\\n🎨 {page_num}페이지 이미지 생성 중...\")\n",
        "    print(f\"   프롬프트: {prompt}\")"
      ],
      "metadata": {
        "id": "ViB2cTo69sIx"
      },
      "execution_count": null,
      "outputs": []
    },
    {
      "cell_type": "code",
      "source": [
        "# 출력 디렉토리 생성\n",
        "import os\n",
        "from IPython.display import display, Image as IPImage\n",
        "import matplotlib.pyplot as plt\n",
        "\n",
        "output_dir = f\"/content/{story_title.replace(' ', '_')}_images\"\n",
        "os.makedirs(output_dir, exist_ok=True)\n",
        "\n",
        "print(f\"📁 이미지 저장 폴더: {output_dir}\")\n",
        "print(\"=\" * 50)\n",
        "\n",
        "# 각 페이지별로 이미지 생성\n",
        "generated_images = []  # 생성된 이미지 정보 저장\n",
        "\n",
        "for page_data in story_pages:\n",
        "    page_num = page_data['page']\n",
        "    prompt = page_data['prompt']\n",
        "    korean_text = page_data['text']\n",
        "\n",
        "    print(f\"\\n🎨 {page_num}페이지 이미지 생성 중...\")\n",
        "    print(f\"   한글: {korean_text}\")\n",
        "    print(f\"   프롬프트: {prompt}\")\n",
        "    print(\"-\" * 30)\n",
        "\n",
        "    try:\n",
        "        # 이미지 생성 (SDXL 설정)\n",
        "        image = pipe(\n",
        "            prompt=prompt,\n",
        "            height=1024,\n",
        "            width=1024,\n",
        "            num_inference_steps=25,  # SDXL은 보통 25-30 스텝\n",
        "            guidance_scale=7.5,      # SDXL 권장값\n",
        "            generator=torch.manual_seed(42 + page_num)  # 페이지별 다른 시드\n",
        "        ).images[0]\n",
        "\n",
        "        # 이미지 저장\n",
        "        filename = f\"page_{page_num:02d}.png\"\n",
        "        filepath = os.path.join(output_dir, filename)\n",
        "        image.save(filepath)\n",
        "\n",
        "        # 생성된 이미지 정보 저장\n",
        "        generated_images.append({\n",
        "            'page': page_num,\n",
        "            'filepath': filepath,\n",
        "            'korean_text': korean_text,\n",
        "            'prompt': prompt,\n",
        "            'image': image\n",
        "        })\n",
        "\n",
        "        print(f\"✅ {page_num}페이지 완료! 저장 위치: {filepath}\")\n",
        "\n",
        "        # 메모리 정리 (코랩에서 중요!)\n",
        "        torch.cuda.empty_cache()\n",
        "\n",
        "    except Exception as e:\n",
        "        print(f\"❌ {page_num}페이지 생성 실패: {e}\")\n",
        "        # 에러가 발생해도 메모리 정리\n",
        "        torch.cuda.empty_cache()\n",
        "        continue\n",
        "\n",
        "print(f\"\\n🎉 모든 이미지 생성 완료!\")\n",
        "print(f\"📁 저장 폴더: {output_dir}\")\n",
        "print(f\"📊 총 {len(generated_images)}개 이미지 생성됨\")\n",
        "\n",
        "# 생성된 이미지들을 바로 확인\n",
        "print(\"\\n\" + \"=\" * 50)\n",
        "print(\"🖼️  생성된 이미지 미리보기\")\n",
        "print(\"=\" * 50)\n",
        "\n",
        "# matplotlib으로 이미지 표시\n",
        "fig, axes = plt.subplots(1, len(generated_images), figsize=(5*len(generated_images), 5))\n",
        "if len(generated_images) == 1:\n",
        "    axes = [axes]  # 단일 이미지일 때 리스트로 변환\n",
        "\n",
        "for i, img_data in enumerate(generated_images):\n",
        "    axes[i].imshow(img_data['image'])\n",
        "    axes[i].set_title(f\"페이지 {img_data['page']}\\n{img_data['korean_text'][:20]}...\",\n",
        "                     fontsize=10, pad=10)\n",
        "    axes[i].axis('off')\n",
        "\n",
        "plt.tight_layout()\n",
        "plt.show()"
      ],
      "metadata": {
        "id": "9oSTH8vR_JcN"
      },
      "execution_count": null,
      "outputs": []
    }
  ]
}